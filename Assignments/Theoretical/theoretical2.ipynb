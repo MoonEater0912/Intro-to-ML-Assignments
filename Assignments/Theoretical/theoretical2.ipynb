{
 "cells": [
  {
   "cell_type": "markdown",
   "metadata": {},
   "source": [
    "# Logistic Regression\n",
    "## Introduction\n",
    "\n",
    "In this notebook we are going to study gradient descent and in this case applied to logistic regression.\n",
    "Logistic regression (LR) is a statistical method for analysing datasets where there are one of more independent variables that determine the outcome. The outcome is a dichotomous, meaning there are only two possible outcomes (1 / 0, Yes / No, True / False). For instance, if you want to predict the sex of a person from age ($x_1$) and income ($x_2$), the logistic regression model would be\n",
    "\n",
    "$$ h(x) = \\theta_0 + \\theta_1x_1 + \\theta_2 x_2 $$\n",
    "\n",
    "where $h(x)$ is the outcome varibale, $\\theta_0$ the bias and $\\theta_1$ and $\\theta_2$ the weights. The goal is ultimately to tune these parameters with respect to the obeserved data ($x_1$,$x_2$).\n",
    "\n",
    "LR estimates a probability (between 0 and 100%) but $h(x)$ gives values in $(-\\infty, +\\infty)$. We need to \"squish\" $h(x)$ to restrict it to a suitable range. LR commonly uses the logistic function (a.k.a. sigmoid function) to compute probabilities: \n",
    "\n",
    "$$ \\sigma(h(x)) = \\frac{1}{1+e^{-h(x)}}. $$\n",
    "\n",
    "It is possible to threshold the logistic function (values between 0-1), and values below 0.5 will be counted as the prediction of class 0 and values larger than 0.5 results in the prediction of class 1.\n",
    "\n",
    "The full logistic regression model is then:\n",
    "\n",
    "$$ z(x) = \\sigma(h(x)) = \\frac{1}{1+e^{-(\\theta_0 + \\theta_1x_1 + \\theta_2 x_2)}}. $$"
   ]
  },
  {
   "cell_type": "markdown",
   "metadata": {},
   "source": [
    "# Ready, steady, code! 🚀\n",
    "\n",
    "Let's start with loading some data, scikit-learn comes with a couple of toy datasets and we are going to use the \"iris\" dataset where the goal is to classify which type of flower based on a set of features consisting of sepal length (cm), sepal width (cm), petal length (cm), petal width (cm). To begin with we consider only two of those features."
   ]
  },
  {
   "cell_type": "code",
   "execution_count": 1,
   "metadata": {
    "ExecuteTime": {
     "end_time": "2021-01-19T07:50:41.692245Z",
     "start_time": "2021-01-19T07:50:41.685547Z"
    }
   },
   "outputs": [],
   "source": [
    "# import stuff that we need\n",
    "import numpy as np\n",
    "import matplotlib as mpl\n",
    "import matplotlib.pyplot as plt\n",
    "import sklearn\n",
    "import sklearn.datasets as ds\n",
    "from IPython.display import clear_output # if you get problem with this import you can skip it, it is used to print the cost later which can be skipped"
   ]
  },
  {
   "cell_type": "code",
   "execution_count": 2,
   "metadata": {
    "ExecuteTime": {
     "end_time": "2021-01-19T07:52:28.766916Z",
     "start_time": "2021-01-19T07:52:28.757691Z"
    }
   },
   "outputs": [
    {
     "ename": "AssertionError",
     "evalue": "Looks like you don't have the same version of numpy as us!",
     "output_type": "error",
     "traceback": [
      "\u001b[1;31m---------------------------------------------------------------------------\u001b[0m",
      "\u001b[1;31mAssertionError\u001b[0m                            Traceback (most recent call last)",
      "Cell \u001b[1;32mIn[2], line 1\u001b[0m\n\u001b[1;32m----> 1\u001b[0m \u001b[38;5;28;01massert\u001b[39;00m np\u001b[38;5;241m.\u001b[39m__version__ \u001b[38;5;241m==\u001b[39m \u001b[38;5;124m\"\u001b[39m\u001b[38;5;124m2.2.0\u001b[39m\u001b[38;5;124m\"\u001b[39m, \u001b[38;5;124m\"\u001b[39m\u001b[38;5;124mLooks like you don\u001b[39m\u001b[38;5;124m'\u001b[39m\u001b[38;5;124mt have the same version of numpy as us!\u001b[39m\u001b[38;5;124m\"\u001b[39m\n\u001b[0;32m      2\u001b[0m \u001b[38;5;28;01massert\u001b[39;00m mpl\u001b[38;5;241m.\u001b[39m__version__ \u001b[38;5;241m==\u001b[39m \u001b[38;5;124m\"\u001b[39m\u001b[38;5;124m3.10.0\u001b[39m\u001b[38;5;124m\"\u001b[39m, \u001b[38;5;124m\"\u001b[39m\u001b[38;5;124mLooks like you don\u001b[39m\u001b[38;5;124m'\u001b[39m\u001b[38;5;124mt have the same version of matplotlib as us!\u001b[39m\u001b[38;5;124m\"\u001b[39m\n\u001b[0;32m      3\u001b[0m \u001b[38;5;28;01massert\u001b[39;00m sklearn\u001b[38;5;241m.\u001b[39m__version__ \u001b[38;5;241m==\u001b[39m \u001b[38;5;124m\"\u001b[39m\u001b[38;5;124m1.6.0\u001b[39m\u001b[38;5;124m\"\u001b[39m, \u001b[38;5;124m\"\u001b[39m\u001b[38;5;124mLooks like you don\u001b[39m\u001b[38;5;124m'\u001b[39m\u001b[38;5;124mt have the same version of sklearn as us!\u001b[39m\u001b[38;5;124m\"\u001b[39m\n",
      "\u001b[1;31mAssertionError\u001b[0m: Looks like you don't have the same version of numpy as us!"
     ]
    }
   ],
   "source": [
    "assert np.__version__ == \"2.2.0\", \"Looks like you don't have the same version of numpy as us!\"\n",
    "assert mpl.__version__ == \"3.10.0\", \"Looks like you don't have the same version of matplotlib as us!\"\n",
    "assert sklearn.__version__ == \"1.6.0\", \"Looks like you don't have the same version of sklearn as us!\""
   ]
  },
  {
   "cell_type": "code",
   "execution_count": 3,
   "metadata": {},
   "outputs": [
    {
     "name": "stdout",
     "output_type": "stream",
     "text": [
      "version of numpy is  2.2.2\n",
      "version of matplotlib is  3.10.0\n",
      "version of sklearn is  1.6.1\n"
     ]
    }
   ],
   "source": [
    "print(\"version of numpy is \",np.__version__)\n",
    "print(\"version of matplotlib is \",mpl.__version__)\n",
    "print(\"version of sklearn is \",sklearn.__version__)"
   ]
  },
  {
   "cell_type": "code",
   "execution_count": 4,
   "metadata": {
    "ExecuteTime": {
     "end_time": "2021-01-19T07:52:33.179008Z",
     "start_time": "2021-01-19T07:52:33.151459Z"
    }
   },
   "outputs": [],
   "source": [
    "data = ds.load_iris()\n",
    "\n",
    "selected_features_idx = [0,1] #'sepal length (cm)', 'sepal width (cm)'\n",
    "selected_targets = [0,1] #'setosa' 'versicolor'\n",
    "\n",
    "idx = np.array([x in selected_targets for x in data.target])\n",
    "x = data.data[:,selected_features_idx][idx]\n",
    "y = data.target[idx]\n",
    "y[y > 1] = 1 # Reset labels greater than 1 to 1"
   ]
  },
  {
   "cell_type": "code",
   "execution_count": 5,
   "metadata": {
    "ExecuteTime": {
     "end_time": "2021-01-19T07:52:46.508713Z",
     "start_time": "2021-01-19T07:52:46.172908Z"
    }
   },
   "outputs": [
    {
     "data": {
      "image/png": "[encoded data removed]",
      "text/plain": [
       "<Figure size 640x480 with 1 Axes>"
      ]
     },
     "metadata": {},
     "output_type": "display_data"
    }
   ],
   "source": [
    "plt.figure()\n",
    "for label in np.unique(y):\n",
    "    plt.scatter(x[:, 0][y == label], x[:, 1][y == label], label = data.target_names[label])\n",
    "plt.legend()\n",
    "plt.show()"
   ]
  },
  {
   "cell_type": "markdown",
   "metadata": {},
   "source": [
    "Now we need a function that predicts the logistic regression model and make predictions. This function takes a measurement, the current bias and the weights as input.\n",
    "\n",
    "$$ z(x) = \\frac{1}{1+e^{-(\\theta_0 + \\theta_1x_1 + \\theta_2x_2)}} $$\n"
   ]
  },
  {
   "cell_type": "code",
   "execution_count": 7,
   "metadata": {},
   "outputs": [],
   "source": [
    "def z_x(x, bias, weights):\n",
    "    \"\"\" param x: vector containing measurements. x = [x1, x2]\n",
    "        param bias: single value\n",
    "        param weight: vector containing model weights. weights= [w1,w2]\n",
    "        \n",
    "        return: value of logistic regression model for defined x, bias and weights\n",
    "    \"\"\"\n",
    "\n",
    "    # STUDENT CODE HERE\n",
    "    h = np.dot(x, weights) + bias\n",
    "    z = 1/(1 + np.exp(-h))\n",
    "    return z\n",
    "    # STUDENT CODE ENDS"
   ]
  },
  {
   "cell_type": "markdown",
   "metadata": {},
   "source": [
    "Now try it with some random weights and bias."
   ]
  },
  {
   "cell_type": "code",
   "execution_count": 8,
   "metadata": {},
   "outputs": [
    {
     "name": "stdout",
     "output_type": "stream",
     "text": [
      "Accuracy:  0.5\n"
     ]
    }
   ],
   "source": [
    "bias = np.random.normal()\n",
    "weights = np.random.normal(size = len(x[0]))\n",
    "\n",
    "predicted = []\n",
    "for i in range(len(x)):\n",
    "    yhat = z_x(x[i], bias, weights)\n",
    "    predicted.append(round(yhat))\n",
    "\n",
    "print('Accuracy: ', np.sum(np.equal(y, predicted)) / len(predicted))"
   ]
  },
  {
   "cell_type": "markdown",
   "metadata": {},
   "source": [
    "Let's plot the decision boundary between the points for this set of weights. The decision boundary is found by setting $h(x) = 0$ which gives:\n",
    "\n",
    "$$ x_2 = -\\frac{\\theta_0 + \\theta_1x_1}{\\theta_2} $$"
   ]
  },
  {
   "cell_type": "code",
   "execution_count": 11,
   "metadata": {},
   "outputs": [
    {
     "data": {
      "image/png": "[encoded data removed]",
      "text/plain": [
       "<Figure size 640x480 with 1 Axes>"
      ]
     },
     "metadata": {},
     "output_type": "display_data"
    }
   ],
   "source": [
    "x_values = x[:,0]\n",
    "y_values = - (bias + weights[0]*x_values) / weights[1]\n",
    "\n",
    "plt.figure()\n",
    "plt.scatter(x[:,0][y==0],x[:,1][y==0], label = '0')\n",
    "plt.scatter(x[:,0][y==1],x[:,1][y==1], label = '1')\n",
    "plt.plot(x_values, y_values, label='Decision Boundary')\n",
    "plt.legend()\n",
    "plt.show()"
   ]
  },
  {
   "cell_type": "markdown",
   "metadata": {},
   "source": [
    "Not very good (or did you get lucky with the weights?). Try rerunning it a couple of times to see if you can randomly find a better set of weights that improves the accuracy.\n",
    "\n",
    "\n",
    "\n",
    "Now, a better way of finding the optimal weights is the gradient descent method. Gradient descent is an iterative process of minimizing a function by following the gradients of a pre-defined cost function. This is useful for updating and tuning the parameters of our logistic regression model. As gradient descent is an iterative algorithm, we have to repeat the above step until we reach a satisfactory solution. The updates are defined as:\n",
    "\n",
    "$$ \\theta_j \\leftarrow \\theta_j - \\alpha \\frac{\\partial J(\\theta)}{\\partial\\theta_j}, $$\n",
    "\n",
    "and similarily for the bias term \n",
    "\n",
    "$$ \\theta_0 \\leftarrow \\theta_0 - \\alpha \\frac{\\partial J(\\theta)}{\\partial \\theta_o}. $$\n",
    "\n",
    "Where $\\alpha$ is a user specified learning rate, a scalar that controls the step size in the parameter space and $J(\\theta)$ is the cost function that we will now define. Note that to minimize the cost function, we move in the direction opposite to the gradient.\n",
    "\n",
    "First, we need to define our cost function, which is typically the negative log-likelihood of the data for numerical reasons, also called *Binary-Cross-Entropy* loss function. For a binary classification problem with $m$ training examples, where $x^{(i)}$ represents the $i$-th example of our training set and $y^{(i)}$ its output, the cost function is given by:\n",
    "\n",
    "$$\n",
    "J(\\theta)=\\frac{1}{m}\\sum_{i=1}^m \n",
    "\\begin{cases}\n",
    "-log(g(x^{(i)}, \\theta)),& \\text{if } y^{(i)} = 1\\\\\n",
    "-log(1 - g(x^{(i)},\\theta)),& \\text{if } y^{(i)} = 0\n",
    "\\end{cases}\n",
    "$$\n",
    "\n",
    "where $g(x^{(i)},\\theta)$ modelizes $P(y = 1 | x; \\theta)$. Note that we have added $\\theta$ explicitly to the notation to emphasize the dependence on the model parameters.\n",
    "\n",
    "The two functions can be combined into one as:\n",
    "\n",
    "$$ J(\\theta) = -\\frac{1}{m} \\sum_{i=1}^m [y^{(i)} \\log(z_\\theta(x^{(i)})) + (1 - y^{(i)}) \\log(1 - z_\\theta(x^{(i)}))] $$\n",
    "\n",
    "Where $z_θ(x)$ is the sigmoid function, representing the probability that the input $x$ belongs to the positive class.\n",
    "\n",
    "To simplify the notation in the following calculations, we will omit the subindexes; nevertheless, keep in mind that when the cost function is optimized, it is done across all samples in the training dataset.\n",
    "\n",
    "$$ J(\\theta)= -y\\cdot log(z(x)) - (1-y)\\cdot log(1-z(x))$$\n",
    "\n",
    "where $y$ is the target class. The Binary-Cross-Entropy tells us that if the target is 1 and we predict 0, then we will get a large error ($-log(0) = \\infty$) and vice verca ($-log(1 - 1) = -log(0) = \\infty$).\n",
    "\n",
    "For gradient descent we need the derivative of this cost function with respect to the weights $\\frac{\\partial J(\\theta)}{\\partial\\theta_j}$. We can get this with the chain rule:\n",
    "\n",
    "\n",
    "\n",
    "$$\\frac{\\partial J(\\theta)}{\\partial \\theta_j} = \\frac{\\partial J(\\theta)}{\\partial z(x)} \\cdot \\frac{\\partial z(x)}{\\partial h(x)} \\cdot \\frac{\\partial h(x)}{\\partial \\theta_j}$$\n",
    "\n",
    "\n",
    "Where the three derivatives result in:\n",
    "\n",
    "$$\\begin{aligned} \\frac{\\partial J(\\theta)}{\\partial z(x)} &= -\\left(\\frac{y}{z(x)} - \\frac{(1-y)}{(1-z(x))}\\right) \\\\ \\frac{\\partial z(x)}{\\partial h(x)} &= z(x)\\cdot(1-z(x)) \\\\ \\frac{\\partial h(x)}{\\partial \\theta} &=  x \\end{aligned}$$\n",
    "\n",
    "Combining the previous equations together with the previous chain rule gives \n",
    "\n",
    "$$ \\frac{\\partial J(\\theta)}{\\partial\\theta_j} = x_j\\cdot(z(x)-y) $$\n",
    "\n",
    "where $x_j$ is the $j$-th component of $x$.\n",
    "\n",
    "For the bias term the derivative is similar but it is not dependent on $x$ since $\\frac{\\partial h(x)}{\\partial \\theta_0} =  1$\n",
    "\n",
    "$$ \\frac{\\partial J(\\theta)}{\\partial \\theta_0} = z(x)-y $$\n",
    "\n",
    "Finally, recovering the subindex notation for all the samples in our training set we can express the gradient of the cost function with respect to each parameter. For the weight case:\n",
    "\n",
    "$$ \\frac{\\partial J(\\theta)}{\\partial \\theta_j} = \\frac{1}{m} \\sum_{i=1}^m (z_\\theta(x^{(i)}) - y^{(i)})x_j^{(i)}. $$\n",
    "\n",
    "And for the bias case:\n",
    "\n",
    "$$ \\frac{\\partial J(\\theta)}{\\partial \\theta_0} = \\frac{1}{m} \\sum_{i=1}^m (z_\\theta(x^{(i)}) - y^{(i)}). $$\n",
    "\n",
    "With this two formulas now we can use these gradients to update the parameters in the gradient descent algorithm."
   ]
  },
  {
   "cell_type": "markdown",
   "metadata": {},
   "source": [
    "**The full algorithm is:**\n",
    "1. Initialize the weights randomly. \n",
    "2. Calculate the gradients of cost function w.r.t parameters.\n",
    "3. Update the weights by $ \\theta_j \\leftarrow \\theta_j - \\alpha \\frac{\\partial}{\\partial\\theta_j}J(\\theta). $\n",
    "4. Update the bias by $ \\theta_0 \\leftarrow \\theta_0 - \\alpha \\frac{\\partial}{\\partial \\theta_0}J(\\theta). $\n",
    "5. Repeat until value of cost function does not change or to a pre-defined number of iterations."
   ]
  },
  {
   "cell_type": "markdown",
   "metadata": {},
   "source": [
    "Write a function for the cost and one for its derivative with respect to the weights and one with respect to the bias. Note that the derivative function will return the number of values corresponing the the number of weights that you have. Also note that we are only doing this for one training point."
   ]
  },
  {
   "cell_type": "code",
   "execution_count": 45,
   "metadata": {},
   "outputs": [],
   "source": [
    "def cost_function(y, x, bias, weights):\n",
    "    \"\"\" param y: Ground truth label for measurements\n",
    "        param x: vector containing measurements. x = [x1, x2]\n",
    "        param bias: single value\n",
    "        param weight: vector containing model weights. weights= [w1,w2]\n",
    "    \n",
    "        return: value of the cost function. In this case BCE\n",
    "    \"\"\"\n",
    "\n",
    "    # STUDENT CODE HERE\n",
    "    cost = -y*np.log(z_x(x, bias, weights)) - (1-y)*np.log(1-z_x(x, bias, weights))\n",
    "    # STUDENT CODE ENDS\n",
    "    return cost"
   ]
  },
  {
   "cell_type": "code",
   "execution_count": 46,
   "metadata": {},
   "outputs": [],
   "source": [
    "def derivative_weights(y, x, bias, weights):\n",
    "    \"\"\" param y: Ground truth label for measurements\n",
    "        param x: vector containing measurements. x = [x1, x2]\n",
    "        param bias: single value\n",
    "        param weight: vector containing model weights. weights= [w1,w2]\n",
    "    \n",
    "        return: derivative of cost function with respect to the weights, dw = [dw1, dw2]\n",
    "    \"\"\"\n",
    "\n",
    "    # STUDENT CODE HERE\n",
    "    x = np.array(x)\n",
    "    cost_deriv = x * (z_x(x, bias, weights) - y)\n",
    "    # STUDENT CODE ENDS\n",
    "    return cost_deriv"
   ]
  },
  {
   "cell_type": "code",
   "execution_count": 47,
   "metadata": {},
   "outputs": [],
   "source": [
    "def derivative_bias(y, x, bias, weights):\n",
    "    \"\"\" param y: Ground truth label for measurements\n",
    "        param x: vector containing measurements. x = [x1, x2]\n",
    "        param bias: single value\n",
    "        param weight: vector containing model weights. weights= [w1,w2]\n",
    "    \n",
    "        return: derivative of cost function with respect to the bias\n",
    "    \"\"\"\n",
    "\n",
    "    # STUDENT CODE HERE\n",
    "    cost_deriv = z_x(x, bias, weights) - y\n",
    "    # STUDENT CODE ENDS\n",
    "    return cost_deriv"
   ]
  },
  {
   "cell_type": "markdown",
   "metadata": {},
   "source": [
    "Finally lets fit the logistic regression model with gradient descent across all training data points. As we saw before, gradient descent works by, at each iteration, average the total cost and the derivatives on over the full training set.\n",
    "\n",
    "Implement gradient descent for logistic regression. Experiment with different learning rates and number of iterations to see if you get differnt solutions."
   ]
  },
  {
   "cell_type": "code",
   "execution_count": 60,
   "metadata": {},
   "outputs": [
    {
     "name": "stdout",
     "output_type": "stream",
     "text": [
      "iteration:  0  cost:  118.02060752713726\n",
      "iteration:  1  cost:  116.97494539925306\n",
      "iteration:  2  cost:  119.15345912962871\n",
      "iteration:  3  cost:  115.00270678501049\n",
      "iteration:  4  cost:  116.9908743746346\n",
      "iteration:  5  cost:  111.96245580040299\n",
      "iteration:  6  cost:  114.23590472124623\n",
      "iteration:  7  cost:  108.74158196340878\n",
      "iteration:  8  cost:  111.28487918555953\n",
      "iteration:  9  cost:  105.43741840377278\n",
      "iteration:  10  cost:  108.18473839078403\n",
      "iteration:  11  cost:  102.07562612497776\n",
      "iteration:  12  cost:  104.95250029216324\n",
      "iteration:  13  cost:  98.67104531611564\n",
      "iteration:  14  cost:  101.60009132319854\n",
      "iteration:  15  cost:  95.23284708789483\n",
      "iteration:  16  cost:  98.13712226044208\n",
      "iteration:  17  cost:  91.76615091627528\n",
      "iteration:  18  cost:  94.57196295523903\n",
      "iteration:  19  cost:  88.27311915204916\n",
      "iteration:  20  cost:  90.91238730931512\n",
      "iteration:  21  cost:  84.75384662426077\n",
      "iteration:  22  cost:  87.16601551392202\n",
      "iteration:  23  cost:  81.20716822413078\n",
      "iteration:  24  cost:  83.34067842662543\n",
      "iteration:  25  cost:  77.6314580212836\n",
      "iteration:  26  cost:  79.44479893346714\n",
      "iteration:  27  cost:  74.02547656844399\n",
      "iteration:  28  cost:  75.48787754273188\n",
      "iteration:  29  cost:  70.38932334672877\n",
      "iteration:  30  cost:  71.48117489987946\n",
      "iteration:  31  cost:  66.72556289393658\n",
      "iteration:  32  cost:  67.43869750362371\n",
      "iteration:  33  cost:  63.0406113038571\n",
      "iteration:  34  cost:  63.37860717018225\n",
      "iteration:  35  cost:  59.34648509423336\n",
      "iteration:  36  cost:  59.325171471750004\n",
      "iteration:  37  cost:  55.6630034290007\n",
      "iteration:  38  cost:  55.31130884850917\n",
      "iteration:  39  cost:  52.020443999547965\n",
      "iteration:  40  cost:  51.381572676942994\n",
      "iteration:  41  cost:  48.46238100722087\n",
      "iteration:  42  cost:  47.59492644704552\n",
      "iteration:  43  cost:  45.04783773158581\n",
      "iteration:  44  cost:  44.02576118191671\n",
      "iteration:  45  cost:  41.85089567925484\n",
      "iteration:  46  cost:  40.76043662211616\n",
      "iteration:  47  cost:  38.95486782653628\n",
      "iteration:  48  cost:  37.88611490370735\n",
      "iteration:  49  cost:  36.43835283682283\n"
     ]
    }
   ],
   "source": [
    "lr = 0.25 # <-- specify learning rate\n",
    "\n",
    "# Initialize weights and bias as random\n",
    "np.random.seed(42)\n",
    "bias = np.random.normal()\n",
    "weights = np.random.normal(size = len(x[0]))\n",
    "\n",
    "\n",
    "number_of_iterations = 50 # <-- number of iterations to perform gradient descent\n",
    "\n",
    "# Loop through training data and update the weights at each iteration\n",
    "\n",
    "for it in range(number_of_iterations):\n",
    "# .. Code for gradient descent for logistic regression\n",
    "    # STUDENT CODE HERE\n",
    "    deri_weights = np.array([0, 0])\n",
    "    deri_bias = 0\n",
    "    cost = 0\n",
    "    for i in range(len(x)):\n",
    "        yhat = z_x(x[i], bias, weights)\n",
    "        cost += cost_function(y[i], x[i], bias, weights)\n",
    "        deri_weights = deri_weights + derivative_weights(y[i], x[i], bias, weights)\n",
    "        deri_bias += derivative_bias(y[i], x[i], bias, weights)\n",
    "    \n",
    "    weights = weights - lr * (deri_weights/len(x))\n",
    "    bias = bias - lr * (deri_bias/len(x))\n",
    "    # STUDENT CODE ENDS\n",
    "\n",
    "    print('iteration: ', it, ' cost: ', cost) # In this case the variable for the current cost is called \"cost\""
   ]
  },
  {
   "cell_type": "code",
   "execution_count": 61,
   "metadata": {},
   "outputs": [
    {
     "name": "stdout",
     "output_type": "stream",
     "text": [
      "Accuracy:  0.91\n"
     ]
    }
   ],
   "source": [
    "predicted = []\n",
    "for i in range(len(x)):\n",
    "    yhat = z_x(x[i], bias, weights)\n",
    "    predicted.append(round(yhat))\n",
    "\n",
    "print('Accuracy: ', np.sum(np.equal(y,predicted)) / len(predicted))"
   ]
  },
  {
   "cell_type": "markdown",
   "metadata": {},
   "source": [
    "Let us plot the decision boundary for the new weights:"
   ]
  },
  {
   "cell_type": "code",
   "execution_count": 62,
   "metadata": {},
   "outputs": [
    {
     "data": {
      "image/png": "[encoded data removed]",
      "text/plain": [
       "<Figure size 640x480 with 1 Axes>"
      ]
     },
     "metadata": {},
     "output_type": "display_data"
    }
   ],
   "source": [
    "x_values = x[:,0]\n",
    "y_values = - (bias + weights[0]*x_values) / weights[1]\n",
    "\n",
    "plt.figure()\n",
    "for label in np.unique(y):\n",
    "    plt.scatter(x[:,0][y==label],x[:,1][y==label], label = data.target_names[label])\n",
    "plt.plot(x_values, y_values, label='Decision Boundary')\n",
    "plt.legend()\n",
    "plt.show()"
   ]
  },
  {
   "cell_type": "code",
   "execution_count": null,
   "metadata": {},
   "outputs": [],
   "source": []
  }
 ],
 "metadata": {
  "kernelspec": {
   "display_name": "base",
   "language": "python",
   "name": "python3"
  },
  "language_info": {
   "codemirror_mode": {
    "name": "ipython",
    "version": 3
   },
   "file_extension": ".py",
   "mimetype": "text/x-python",
   "name": "python",
   "nbconvert_exporter": "python",
   "pygments_lexer": "ipython3",
   "version": "3.12.3"
  }
 },
 "nbformat": 4,
 "nbformat_minor": 2
}
